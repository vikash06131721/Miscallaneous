{
 "cells": [
  {
   "cell_type": "markdown",
   "metadata": {},
   "source": [
    "# Libraries"
   ]
  },
  {
   "cell_type": "code",
   "execution_count": 44,
   "metadata": {},
   "outputs": [],
   "source": [
    "import pandas as pd\n",
    "import numpy as np\n",
    "import os\n",
    "import string\n",
    "import nltk\n",
    "from nltk.tokenize import sent_tokenize, word_tokenize\n",
    "from nltk.corpus import stopwords\n",
    "from sklearn.feature_extraction.text import TfidfVectorizer, CountVectorizer\n",
    "from sklearn.decomposition import NMF, LatentDirichletAllocation\n",
    "from nltk.stem import WordNetLemmatizer\n",
    "from nltk.stem import PorterStemmer\n",
    "import gensim\n",
    "import spacy\n",
    "from stop_words import get_stop_words\n",
    "# from gensim.models import Word2Vec\n",
    "from gensim.models import Word2Vec"
   ]
  },
  {
   "cell_type": "markdown",
   "metadata": {},
   "source": [
    "# Data"
   ]
  },
  {
   "cell_type": "code",
   "execution_count": 2,
   "metadata": {},
   "outputs": [
    {
     "name": "stdout",
     "output_type": "stream",
     "text": [
      "['.DS_Store', 'entertainment', 'business', 'sport', 'politics', 'README.TXT', 'tech']\n"
     ]
    }
   ],
   "source": [
    "data_dir='./bbc/'\n",
    "print os.listdir(data_dir)\n",
    "stop_= stopwords.words('english')\n",
    "en_stop = get_stop_words('en')"
   ]
  },
  {
   "cell_type": "code",
   "execution_count": 21,
   "metadata": {},
   "outputs": [
    {
     "name": "stdout",
     "output_type": "stream",
     "text": [
      "417\n",
      "511\n"
     ]
    }
   ],
   "source": [
    "sports= data_dir+'sport/'\n",
    "sports_=os.listdir(sports)\n",
    "politics= data_dir+'politics/'\n",
    "politics_= os.listdir(politics)\n",
    "print len(politics_)\n",
    "print len(sports_)"
   ]
  },
  {
   "cell_type": "markdown",
   "metadata": {},
   "source": [
    "# Cleaning Data"
   ]
  },
  {
   "cell_type": "raw",
   "metadata": {},
   "source": [
    "Cleaning The Dataset:\n",
    "1. rstrip to remove newlines\n",
    "2. lower,remove punctuations\n",
    "3. remove digits\n",
    "4. remove stopwords"
   ]
  },
  {
   "cell_type": "code",
   "execution_count": 4,
   "metadata": {},
   "outputs": [
    {
     "data": {
      "text/plain": [
       "['Fuming Robinson blasts officials\\n',\n",
       " '\\n',\n",
       " 'England coach Andy Robinson insisted he was \"livid\" after his side were denied two tries in Sunday\\'s 19-13 Six Nations loss to Ireland in Dublin.\\n',\n",
       " '\\n',\n",
       " 'Mark Cueto\\'s first-half effort was ruled out for offside before the referee spurned TV replays when England crashed over in the dying minutes. \"[I\\'m] absolutely spitting. I\\'m livid. There\\'s two tries we\\'ve been cost,\" Robinson told BBC Sport. \"We\\'ve got to go back to technology. I don\\'t know why we didn\\'t.\" South African referee Jonathan Kaplan ruled that Cueto was ahead of Charlie Hodgson when the fly-half hoisted his cross-field kick for the Sale wing to gather.\\n',\n",
       " '\\n',\n",
       " 'Kaplan then declined the chance to consult the fourth official when Josh Lewsey took the ball over the Irish line under a pile of bodies for what could have been the game-winning try. \"I think Mark Cueto scored a perfectly legal try and I think he should have gone to the video referee on Josh Lewsey,\" said Robinson. \"It is how we use the technology. It is there, and it should be used. \"I am still trying to work out the Cueto try. I have looked at both, and they both looked tries. \"We are very disappointed, and this will hurt, there is no doubt about that. \"We are upset now, but the referee is in charge and he has called it his way and we have got to be able to cope with that.\\n',\n",
       " '\\n',\n",
       " '\"We did everything we could have done to win the game. I am very proud of my players and, with a couple of decisions, this could have been a very famous victory. \"I thought we dominated. Matt Stevens had an awesome game at tighthead prop, while the likes of Charlie Hodgson, Martin Corry and Lewis Moody all came through well. \"Josh Lewsey was awesome, and every one of the forwards stood up out there. Given the pressure we were under, credit must go to all the players. \"We have done everything but win a game of rugby, but Ireland are a good side. They defended magnificently and they\\'ve got every chance of winning this Six Nations.\" England have lost their first three matches in this year\\'s Six Nations and four out of their six games since Robinson took over from Sir Clive Woodward in September.\\n']"
      ]
     },
     "execution_count": 4,
     "metadata": {},
     "output_type": "execute_result"
    }
   ],
   "source": [
    "with open(sports+sports_[0]) as f:\n",
    "    file_= f.readlines()\n",
    "file_\n",
    "        "
   ]
  },
  {
   "cell_type": "code",
   "execution_count": 28,
   "metadata": {
    "collapsed": true
   },
   "outputs": [
    {
     "name": "stderr",
     "output_type": "stream",
     "text": [
      "/Users/vprasad/anaconda2/lib/python2.7/site-packages/ipykernel_launcher.py:25: UnicodeWarning: Unicode equal comparison failed to convert both arguments to Unicode - interpreting them as being unequal\n"
     ]
    },
    {
     "name": "stdout",
     "output_type": "stream",
     "text": [
      "5141\n",
      "['fuming', 'robinson', 'blasts', 'officials']\n",
      "4928\n",
      "['baron', 'kinnock', 'makes', 'lords', 'debut']\n"
     ]
    }
   ],
   "source": [
    "def cleaning_text(documents,directory_):\n",
    "    lemmatizer = WordNetLemmatizer()\n",
    "    ps = PorterStemmer()\n",
    "    cleaned_text=[]\n",
    "    for i in xrange(len(documents)):\n",
    "        with open(directory_+documents[i]) as f:\n",
    "            file_= f.readlines()\n",
    "        for j in xrange(len(file_)):\n",
    "            stripped_= file_[j].rstrip()\n",
    "            lower_= stripped_.lower()\n",
    "            lower_= lower_.translate(None, string.punctuation)\n",
    "            try:\n",
    "                tokenize_= word_tokenize(lower_)\n",
    "            except UnicodeDecodeError:\n",
    "                tokenize_=\"NA\"\n",
    "            digit_taken_out=[]\n",
    "            for w1 in tokenize_:\n",
    "                if w1.isdigit():\n",
    "                    pass\n",
    "                else:\n",
    "                    digit_taken_out.append(w1)\n",
    "                \n",
    "            temp_list=[]\n",
    "            for w in digit_taken_out:\n",
    "                if w not in en_stop:\n",
    "                    temp_list.append(w)\n",
    "            cleaned_text.append(temp_list)\n",
    "    print len(cleaned_text)\n",
    "    print cleaned_text[0]\n",
    "    return cleaned_text\n",
    "cleaned_text= cleaning_text(sports_,sports)\n",
    "cleaned_text_pol=cleaning_text(politics_,politics)"
   ]
  },
  {
   "cell_type": "code",
   "execution_count": 29,
   "metadata": {},
   "outputs": [
    {
     "name": "stdout",
     "output_type": "stream",
     "text": [
      "2801\n",
      "2677\n"
     ]
    }
   ],
   "source": [
    "cleaned_text = [x for x in cleaned_text if x != []]\n",
    "cleaned_text_pol = [x for x in cleaned_text_pol if x != []]\n",
    "print len(cleaned_text)\n",
    "print len(cleaned_text_pol)"
   ]
  },
  {
   "cell_type": "code",
   "execution_count": 30,
   "metadata": {},
   "outputs": [],
   "source": [
    "cleaned_text_all= cleaned_text+cleaned_text_pol"
   ]
  },
  {
   "cell_type": "raw",
   "metadata": {},
   "source": [
    "Collect All The Politics And Sports Cleaned Documents"
   ]
  },
  {
   "cell_type": "markdown",
   "metadata": {},
   "source": [
    "# Model"
   ]
  },
  {
   "cell_type": "raw",
   "metadata": {},
   "source": [
    "Prams:\n",
    "min_count= the minimum count the word should have to be considered in vocab\n",
    "window= the neighborhood around the word\n",
    "size= NN layers, which correspond to the “degrees” of freedom the training algorithm has."
   ]
  },
  {
   "cell_type": "code",
   "execution_count": 31,
   "metadata": {},
   "outputs": [
    {
     "name": "stdout",
     "output_type": "stream",
     "text": [
      "Word2Vec(vocab=5762, size=100, alpha=0.025)\n",
      "['foul', 'four', 'hanging', 'cyprus', 'deport', 'sevens', 'increase', 'eligible', 'fergusons', 'lord', 'ioannidis', 'regional', 'holyrood', 'bringing', 'prize', 'andre', 'wooden', 'wednesday', 'hague', 'succession', 'croatian', 'tired', 'miller', 'mcclaren', 'second', 'attended', 'maloney', 'errors', 'increasing', 'shocks', 'specialist', 'hero', 'reporter', 'reported', 'china', 'substance', 'k', 'fouryear', 'reports', 'controversy', 'military', 'criticism', 'golden', 'divide', 'criticise', 'explained', 'replace', 'brought', 'unit', 'opponents', 'agassi', 'cheating', 'spoke', 'junes', 'valbon', 'telegraph', 'passport', 'strike', 'relay', 'successful', 'brings', 'hurt', 'hole', 'hold', 'circumstances', 'locked', 'cymrus', 'example', 'grimes', 'household', 'dragons', 'battled', 'want', 'absolute', 'complaining', 'travel', 'feature', 'hot', 'robinsons', 'wrong', 'sentencing', 'righthand', 'types', 'effective', 'helsinki', 'wins', 'sylvain', 'keeps', 'democratic', 'wing', 'wind', 'welcomed', 'rewarded', 'owens', 'fit', 'rankings', 'fix', 'stevens', 'survivors', 'wales', 'hidden', 'easier', 'lambert', 'schools', 'treviso', 'silver', 'competitiveness', 'represents', 'debut', 'gerrards', 'angola', 'bradshaw', 'knockout', 'series', 'solution', 'fortnight', 'laboratory', 'whip', 'gatland', 'encourage', 'strategist', 'foundation', 'abbott', 'assured', 'threatened', 'managerial', 'necessarily', 'enormous', 'bates', 'competed', 'atp', '1970s', 'nigel', 'steroids', 'blunketts', 'olds', 'service', 'similarly', 'needed', 'master', 'listed', 'gilbert', 'legs', 'bitter', 'hewitt', 'rewards', 'showed', 'nations', 'project', 'feeling', 'runner', 'boston', 'spectrum', 'affairs', 'responsible', 'recommended', 'causing', 'doors', 'taxation', 'reelection', 'committing', 'shall', 'wells', 'victoria', 'carragher', 'swiss', 'mouth', 'letter', 'conceded', 'euniversity', 'episode', 'professor', 'camp', 'twickenham', 'prevention', 'came', 'saying', 'bomb', 'meetings', 'sexist', 'prix', 'sexism', 'hungary', 'turnbull', 'lessons', 'busy', 'louise', 'headline', 'gallas', 'mens', 'theme', 'touched', 'rich', 'wallabies', 'woodwards', 'giggs', 'flanker', 'greene', 'release', 'respond', 'blew', 'mandatory', 'disaster', 'fair', 'branding', 'result', 'fail', 'resigned', 'best', 'campaigners', 'ambitions', 'lots', 'pressures', '\\xc2\\xa34bn', 'score', 'ira', 'irb', 'glasgow', 'wage', 'never', 'extend', 'nature', 'wta', 'extent', 'debt', 'tyranny', 'accident', 'moazzam', 'country', 'demanded', 'planned', 'surprises', 'argue', 'asked', 'mep', 'irresponsible', 'source', 'union', 'criticised', 'much', 'stadium', 'criticises', 'life', 'lampards', 'eastern', 'wish', 'dave', 'kids', 'doubts', 'worked', 'spin', 'diverted', 'presidency', 'organisers', '\\xc2\\xa3100000', 'played', 'player', 'keegan', 'campaigning', 'isinbayeva', 'trusted', 'hong', 'things', 'rebellion', 'damages', 'bid', 'european', 'fairly', 'qualifications', 'headquarters', 'holme', 'echoed', 'opinions', 'disguise', 'birmingham', 'previous', 'hal', 'ham', 'ease', 'bnp', 'emphasis', 'macdonald', 'easy', 'prison', 'east', 'posed', 'possible', 'possibly', 'bushs', 'sania', 'birth', 'shadow', 'desire', 'bobby', 'remind', 'goldfine', 'steps', 'attorney', 'right', 'old', 'crowd', 'people', 'czech', 'ancic', 'crown', 'deflection', 'insistence', 'bottom', 'fox', 'sheahan', 'continue', 'defensive', 'losing', 'shaken', 'geordan', 'citizens', 'o', 'lacked', 'slightly', 'raised', 'statements', 'facility', 'marshall', 'sol', 'son', 'undermining', 'reducing', 'novo', 'waits', 'support', 'constantly', 'resulted', 'launching', 'happy', 'offer', 'tigers', 'hemisphere', 'survive', 'inside', 'devices', 'smashed', 'proud', 'disgrace', 'tournament', 'pountney', 'proves', 'negotiations', 'eventual', 'vogts', 'role', 'ambitious', 'jenkins', 'roll', 'intend', 'muslims', 'intent', 'persecution', 'nadals', 'time', 'push', 'overturned', 'chain', 'whoever', 'disrepute', 'chair', 'schoolboys', 'rooneys', 'thion', 'allegations', 'choice', 'stays', 'exact', 'minute', 'tear', 'ollie', 'leave', 'settle', 'team', 'speculation', 'prevent', 'findings', 'sign', 'evertons', 'current', 'remembered', 'okelly', 'axed', 'drafted', 'jury', 'honour', 'understanding', 'yards', 'address', 'alone', 'along', 'passengers', 'neville', 'brilliant', 'funded', 'studies', 'nowhere', 'love', 'proportion', 'prefer', 'opposes', 'working', 'positive', 'angry', 'predictions', 'opposed', 'introducing', 'alastair', 'afford', 'apparent', 'jurgen', 'charlton', 'behalf', 'valued', 'anything', 'scholes', 'heineken', 'originally', 'abortion', 'believes', 'values', 'following', 'webster', 'awesome', 'locks', 'unveiled', 'allowed', 'finnan', 'winter', 'divided', 'edinburgh', 'landmark', 'spot', 'applications', 'improving', 'revealed', 'stress', 'federal', 'natural', 'laharrague', 'st', 'wolves', 'pulled', 'unacceptable', 'years', 'course', 'tore', 'overhaul', 'thumb', 'internationally', 'jim', 'aviv', 'suspicion', 'suspension', 'troubled', 'decades', 'matches', 'nation', 'records', 'arriving', 'runners', 'matched', 'establishing', 'amnesty', 'quarter', 'quartet', 'square', 'jonny', 'breakthrough', 'entering', 'seriously', 'investigation', 'trauma', 'internet', 'suggesting', 'sheffield', 'million', 'incentives', 'governing', 'quite', 'snooker', 'plea', 'longrange', 'training', 'dunne', 'horan', 'modest', 'swedens', 'marlu', 'gordon', 'saving', 'spoken', 'clause', 'one', 'submit', 'spanish', 'vote', 'open', 'yachvili', 'city', 'uks', 'quangos', 'draft', 'williams', 'knapman', 'voyce', 'ridiculous', 'gcses', 'representing', 'rival', 'eurosceptic', 'future', 'russia', 'shakeup', 'prospect', 'addressing', 'illness', 'san', 'sam', 'turned', 'argument', 'sad', 'say', 'buried', 'allen', 'turner', 'sap', 'saw', 'sat', 'gregan', 'warriors', 'aside', 'note', 'intends', 'take', 'wanting', 'europeans', 'tindall', 'opposite', 'knew', 'suspects', 'remarks', 'knee', 'pager', 'pages', 'average', 'phil', 'constable', 'drive', 'managing', 'axe', 'laws', 'fifa', 'walking', 'beckham', 'slot', 'slow', 'going', 'outrage', 'carolina', 'assistant', 'countered', 'inspection', 'awaiting', 'prime', 'worried', 'midfield', 'roger', 'bombs', 'worries', 'vision', 'corry', 'surgery', 'jumped', 'representatives', 'sponsorship', 'enjoys', 'jumper', 'jobs', 'dome', 'concentrate', 'awards', 'undermine', 'concentrated', 'many', 's', 'allowance', 'bekele', 'article', 'caring', 'west', 'fiveyear', 'breath', 'combined', 'crawford', 'wants', 'shortlist', 'truants', 'consultant', 'polls', 'prominence', 'consulted', 'hayes', 'policies', 'newspaper', 'situation', 'constituency', 'spotlight', 'ive', 'engaged', 'brom', 'technology', 'surveillance', 'breakdown', 'edged', 'firstround', 'boosted', 'harris', 'anelka', 'costs', 'summer', 'rest', 'safeguards', 'hayley', 'weekly', 'presumption', 'shortlists', 'segas', 'defection', 'aspects', 'around', 'sums', 'unveil', 'dark', 'preference', 'world', 'postal', 'sensational', 'tsunami', 'hodgsons', 'cueto', 'offenders', 'inter', 'forehand', 'racial', 'thinks', 'memories', 'noon', 'graeme', 'exit', 'unsuccessfully', 'power', 'leadership', 'thailand', 'frenchman', 'stone', 'ace', 'package', 'industry', 'act', 'luck', 'flawed', 'image', 'essex', 'lively', 'parties', 'financial', 'wada', 'vaughan', 'burglar', 'hes', 'hed', 'sealed', 'brazilian', 'complete', 'survived', 'buying', 'abused', 'pull', 'rush', 'october', 'unveils', 'firsthalf', 'dirty', 'abuses', 'politically', 'agree', 'detailed', 'gone', 'ac', 'citizenship', 'johnny', 'certain', 'ak', 'direction', 'watched', 'abolish', 'tight', 'disgraceful', 'shaun', 'oneill', 'gifts', 'napier', 'terry', 'tricky', 'maso', 'tricks', 'masi', 'mass', 'adam', 'dyer', 'keane', 'original', 'toure', 'consider', 'caused', 'ferreira', 'welfare', 'causes', 'careful', 'hunting', 'tv', 'tait', 'champions', 'riots', 'dressing', 'tb', 'case', 'appointment', 'returned', 'detention', 'saved', 'elena', 'cable', 'ageing', 'joined', 'large', 'scrapping', 'harry', 'small', 'quicker', 'samoa', 'penalties', 'past', 'discriminated', 'healey', 'displays', 'pass', 'investment', 'richard', 'clock', 'section', 'undecided', 'scientists', 'nurse', 'contrast', 'full', 'christophe', 'hours', 'breached', 'november', 'legend', 'experience', 'prior', 'social', 'action', 'via', 'followed', 'marriages', 'regiment', 'select', 'attendance', 'objectives', 'archives', 'door', 'livingstone', 'substances', 'company', 'jauzion', 'tested', 'keeping', 'damien', 'science', 'resources', 'morgan', 'learn', 'knocked', 'chairing', 'male', 'pick', 'stated', 'lives', 'suggestions', 'accept', 'autumn', 'prso', 'sense', 'cherie', 'information', 'imminent', 'hugh', 'dismissed', 'earnings', 'reyes', 'intended', 'countryside', 'howards', 'appealed', 'refuse', 'register', 'fundamental', 'davey', 'replied', 'leigh', 'itf', 'fraser', 'trade', 'eton', 'immunisation', 'attitude', 'scots', 'scott', 'signs', 'woolf', 'hounds', 'wru', 'travelling', 'ally', 'colleague', 'severely', 'propose', 'skipper', 'always', 'courses', 'found', 'shocking', 'status', 'england', 'reduce', 'investigated', 'operation', 'really', 'anxious', 'missed', 'blacks', 'research', 'misses', 'ministerial', 'brizzel', 'risen', 'sparked', 'qualify', 'imagine', 'rises', 'ceplak', 'director', 'pairs', 'w', 'castle', 'hyderabad', 'major', 'forwards', 'contender', 'number', 'ulster', 'guess', 'fuller', 'introduction', 'threatening', 'relationship', 'interviewed', 'immediate', 'fabien', 'hicham', 'consult', 'aaa', 'determined', 'marriage', 'prescott', 'listen', 'svengoran', 'organisations', 'sell', 'mignoni', 'melzer', 'also', 'internal', 'ukips', 'play', 'jerzy', 'singles', 'swiftly', 'virus', 'plan', 'accepting', 'henson', 'understands', 'seize', 'sometimes', 'cover', 'ruud', 'researchers', 'dragged', 'gold', 'defended', 'session', 'defender', 'rusedski', 'pleaded', 'detaining', 'writes', 'failed', 'wayne', 'factor', 'scarman', 'banned', 'actions', 'closely', 'reporters', 'enemy', 'rfu', 'hits', 'cry', 'croatia', 'insane', 'set', 'jade', 'activists', 'sex', 'see', 'migration', 'aberdeen', 'currently', 'hassell', 'available', 'premises', 'incident', 'renewed', 'delivering', 'prospects', 'last', 'kirwan', 'influential', 'barely', 'connection', 'forsyth', 'let', 'whole', 'drunk', 'loan', 'community', 'olly', 'scottish', 'indefinite', 'monthly', 'hitting', 'contained', 'firm', 'raced', 'champion', 'fire', 'fund', 'races', 'representative', 'towns', 'hingis', 'handling', 'uncertain', 'judicial', 'straight', 'budget', 'technical', 'dominik', 'disproportionate', 'error', 'dominic', 'robin', 'scheduled', 'pound', 'hoping', 'backing', 'owen', 'binding', 'triple', 'chase', 'read', 'comprehensive', 'derby', 'levels', 'infamous', 'recent', 'clermont', 'ginepri', 'person', 'kelly', 'clearance', 'woodward', 'arrests', 'aragones', 'morientes', 'lady', 'admission', 'rangers', 'parents', 'sydney', 'surprised', 'australia', 'victims', 'emergency', 'demands', 'couple', 'suffering', 'nicholls', 'projects', 'formal', 'imposed', 'd', 'consensus', 'communications', 'individuals', 'ivan', 'disorder', 'privately', 'methods', 'spring', 'sight', 'sprint', 'giannakopoulos', 'religion', 'behave', 'prosecuted', 'slopping', 'agreement', 'smiths', 'llanelli', 'looming', 'relating', 'deserved', 'blackburn', 'fouls', 'melbourne', 'deserves', 'stuart', 'terrorists', 'integral', 'ministers', 'appropriate', 'repaid', 'criticisms', 'spending', 'cruyff', 'specifically', 'crackdown', 'suit', 'opens', 'elsewhere', 'jewish', 'poster', 'relaxed', 'tally', 'lampard', 'link', 'line', 'us', 'maturity', 'un', 'uk', '\\xc2\\xa3505', 'influence', 'chat', 'struggled', 'codes', 'edwards', 'nistelrooy', 'preventing', 'definitely', 'elements', 'wrongly', 'scrum', 'prosecution', '\\xc2\\xa350m', 'sides', 'ago', 'lane', 'land', 'lancashire', 'age', 'barkley', 'walked', 'feud', 'dementieva', 'summit', 'walker', 'fresh', 'code', 'results', 'existing', 'gossip', 'shrugged', 'householders', 'seemed', 'turkish', 'concerned', 'young', 'send', 'scarlets', 'sent', 'retire', 'torture', 'continues', 'continued', 'timely', 'magic', 'marry', 'eve', 'fewer', 'try', 'threat', 'race', 'athlete', 'pledge', 'video', 'odd', 'tempted', 'victor', 'ukip', 'expressed', 'lamboley', 'consistently', 'indian', 'firms', 'scepticism', 'led', 'lee', 'chinas', 'leg', 'respectively', 'gathered', 'baroness', 'poverty', 'euro', 'consideration', 'great', 'engage', 'receive', 'involved', 'casino', 'survey', 'defeat', 'opinion', 'residents', 'makes', 'weekends', 'springboks', 'thats', 'holmes', 'fractured', 'crosby', 'sgc', 'standing', 'confidence', 'archbishop', 'bush', 'next', 'doubt', 'doubling', 'highbury', 'occurred', 'opposing', 'labelled', 'baby', 'charity', 'balls', 'animals', 'challenge', 'clients', 'insists', 'thin', 'rooney', 'slid', 'bent', 'martyn', 'process', 'lock', 'slim', 'purposes', 'high', 'slip', 'pleased', 'educational', 'delay', 'pair', 'animal', 'blocks', 'connors', 'await', 'tied', 'halted', 'pigs', 'fits', 'ties', 'crosskick', 'joice', 'counter', 'allow', 'houston', 'holds', 'move', 'produced', 'motorcycle', 'mutu', 'warren', 'perfect', 'chosen', 'meantime', 'designs', 'heptathlon', 'outlined', 'earn', 'makelele', 'outlines', 'presidential', 'preelection', 'tighthead', 'betty', 'truth', 'accounts', 'persie', 'hickie', 'society', 'books', 'cudicini', 'agriculture', 'goalkeeper', 'tevez', 'dismissal', 'erfurt', 'favours', 'britons', 'thanou', 'shut', 'surely', 'mcgeady', 'dubbed', 'david', 'length', 'idowu', 'removing', 'davis', 'scare', 'vickery', 'touring', 'alleged', 'scent', 'decider', 'traveller', 'system', 'sergeant', 'travelled', 'painful', 'interests', 'enforcement', 'stomach', 'lot', 'riise', 'elite', 'colleagues', 'brentford', 'reacted', 'halliwell', 'roberts', 'heninhardenne', 'briefing', 'steer', 'collecting', 'accusing', 'false', 'partnership', 'beith', 'tessa', 'clearly', 'documents', 'studying', 'toughest', 'pitches', 'courtesy', 'visa', 'medal', 'byelections', 'stronger', 'face', '400m', 'fact', 'atmosphere', 'bring', 'manchester', 'lloyd', 'rough', 'asylum', 'decade', 'principal', 'pause', 'jan', 'tape', 'mayors', 'hope', 'meant', 'handle', 'means', 'lucky', 'exchanges', 'smash', 'committees', 'h', 'taxes', 'reid', 'extremists', 'stuff', 'alessandro', 'austrian', 'milloud', 'nationwide', 'nuclear', 'youll', 'email', 'ends', 'cristiano', 'lawsuit', 'restrictions', 'invited', 'drug', 'figures', 'bristol', 'volley', 'maggs', 'ca', 'ljungberg', 'taylor', 'winning', 'powered', 'quotas', 'waste', 'baume', 'spain', 'hockney', 'theyve', 'forsyths', 'runway', 'rbs', 'groin', 'britains', 'site', 'optimistic', 'terrorist', 'juan', 'highlighted', 'matthew', 'outbreak', 'terrorism', 'pires', 'paula', 'ball', 'raymond', 'quarterfinal', 'drink', 'upon', 'forecasts', 'anfield', 'identity', 'audit', 'newry', 'indonesia', 'command', 'christos', 'drawing', 'less', 'moments', 'paul', 'arrese', 'generous', 'wed', 'arrest', 'englands', 'crack', 'increased', 'government', 'chancellor', 'increases', 'zimbabwe', 'five', 'belgium', 'chairs', 'become', 'inexperienced', 'replacement', 'amendment', 'gaining', 'sunderland', 'mozambique', 'ballot', 'transport', 'contested', 'merge', 'avoid', 'separate', 'passion', 'schedule', 'pressure', 'maduaka', 'loans', 'stage', 'gained', 'sister', 'firsttime', 'seeds', 'documentary', 'executives', 'burma', 'alliance', 'commitment', 'referendum', 'assess', 'charities', 'housing', 'slovakia', 'frustration', 'fiscal', 'maori', 'complacency', 'count', 'gebrselassie', 'places', 'official', 'excitement', 'placed', 'riley', 'problem', 'trafford', 'irish', 'rightly', 'contribute', 'compared', 'variety', 'trials', 'details', 'francisco', 'monday', 'chance', 'lasted', 'rule', 'lift', 'compete', 'pension', 'searched', 'rural', 'saves', 'controversial', 'integrity', 'votes', 'voter', 'edward', 'voted', 'worth', 'partys', 'tagging', 'roddick', 'announced', 'abolishing', 'triumph', 'charvis', 'rugbys', 'topup', 'established', 'waterreus', 'incompatible', 'clocked', 'toll', 'officially', 'told', 'whitehall', 'richest', 'protection', 'celebration', 'daughter', 'study', 'smoke', 'stressed', 'postponed', 'secure', 'highly', 'cheats', 'opportunities', 'total', 'sarah', 'palestinian', 'motivate', 'negative', 'jowell', 'claxton', 'award', 'aware', 'mathew', 'championships', 'word', 'shame', 'work', 'refusing', 'aaas', 'indicated', 'bennett', 'india', 'recovery', 'provide', 'recovers', 'woodhill', 'interview', 'ordinary', 'resignation', 'gamble', 'lad', 'ladder', 'earlier', 'damaged', 'lay', 'midlands', 'strategists', 'law', 'complacent', 'appreciate', 'greek', 'davies', 'loosehead', 'worst', 'order', 'lindsay', 'office', 'defenders', 'satisfied', 'pascal', 'hereford', 'mayor', 'bombing', 'somewhere', 'roland', 'split', 'eventually', 'tbwa', 'affected', 'bans', 'safe', 'stuttering', 'break', 'band', 'lifelong', 'bank', 'backgrounds', 'l', 'worldclass', 'anastasia', 'reasonable', 'carlos', 'hazell', 'lifted', 'schemes', 'councils', 'gerrard', 'crimes', 'hosted', 'network', 'cameras', 'daniel', 'hooker', 'barrier', 'veto', 'frontbencher', 'standard', 'admits', 'disputes', 'recovering', 'created', 'chirac', 'unseeded', 'creates', 'renew', 'oppose', 'canterbury', 'lishman', 'marigny', 'another', 'electronic', 'rejects', 'compromise', 'john', 'dogs', 'damaging', 'albert', 'rejected', 'wasted', 'fuelled', 'target', 'tackles', 'tackled', 'powers', 'youre', 'return', 'manner', 'bergamasco', 'forced', 'strength', 'genuine', 'rome', 'forces', 'nobody', 'bruce', 'extending', 'involving', 'germany', 'phase', 'grave', 'deacon', 'sun', 'voting', 'responded', 'lewis', 'anniversary', 'contepomi', 'shrewsbury', 'enjoyed', 'sharks', 'yeo', 'implementation', 'guidance', 'screening', 'personality', 'predecessor', 'de', 'preferred', 'dr', 'runs', 'covering', 'meps', 'explanations', 'secretary', 'checks', 'discussions', 'truancy', 'frontline', 'spains', 'away', 'compensation', 'unable', 'cooperation', 'nyanga', 'drawn', 'crosscountry', 'terms', 'prohunt', 'travellers', 'received', 'climate', 'ill', 'brad', 'tough', 'royal', 'thierry', 'tony', 'speak', 'strong', 'condemned', 'flexible', 'duties', 'antiterror', 'innocent', 'attacked', 'concerning', 'seville', 'applied', 'johansson', 'publicly', 'launches', 'air', 'aim', 'aid', 'voice', 'davenport', 'launched', 'mistake', 'thursdays', 'juventus', 'businesses', 'tissue', 'confirmed', 'perform', 'demonstration', 'indictment', 'lomu', 'independent', 'fuss', 'rail', 'counterparts', 'hand', 'liberties', 'blamed', 'kept', 'penalised', 'contact', 'centres', 'thg', 'camps', 'unified', 'quoted', 'wasps', 'thanks', 'victim', 'adding', 'josh', 'countrys', 'shout', 'spread', 'board', 'allblack', 'capt', 'caps', 'arab', 'fulham', 'everton', 'cape', 'unfounded', 'disadvantage', 'theyre', 'henman', 'night', 'security', 'parisse', 'webb', 'portuguese', 'dimitri', 'sends', 'boro', 'born', 'constables', 'denies', 'comments', 'asking', 'denied', 'beating', 'participation', 'peel', 'marketing', 'pose', 'constructive', 'peer', 'post', 'properties', 'trophy', 'newspapers', 'months', 'jacques', 'cragg', 'pays', 'prisoners', 'delighted', 'capped', 'balanced', 'deal', 'legislation', 'fight', 'way', 'war', 'lowest', 'becoming', 'dead', 'griffen', 'true', 'absent', 'responding', 'maximum', 'crystal', 'faking', 'emotional', 'promises', 'moore', 'request', 'evidence', 'promised', 'physical', 'kenyas', 'dying', 'gethin', 'stake', 'reality', 'interested', 'holding', 'test', 'kenyan', '\\xc2\\xa3200', 'welcome', 'scorer', 'scores', 'tottenham', 'desailly', 'together', 'loyal', 'reception', 'lineup', 'stick', 'switched', 'global', 'supplement', 'battle', 'creative', 'certainly', 'hensons', 'zone', 'outplayed', 'permanently', 'rhythm', 'terror', 'brown', 'charles', 'seemingly', 'falconer', 'trouble', 'perceived', 'cunningham', 'presented', '12th', 'p', 'guy', 'possibility', 'upper', 'brave', 'regret', 'supercasinos', 'regained', 'professionalism', 'cost', 'appear', 'shared', 'appeal', 'supporting', 'unsure', 'muslim', 'teacher', 'change', 'sending', 'trial', 'kemp', 'usually', 'retired', 'extra', 'bulloch', 'marked', 'bullock', 'italians', 'rarely', 'market', 'prove', 'live', 'slough', 'commissioner', 'club', 'mansfield', 'bowles', 'migrants', 'slogan', 'defeats', 'cas', 'car', 'cap', 'hardest', 'incidents', 'can', 'heart', 'dedicated', 'gaston', 'december', 'chip', 'carroll', '1980s', 'heard', 'fortunes', 'fortunately', 'discussion', 'trophies', 'write', 'flank', 'economy', 'product', 'dive', 'sweeney', 'southern', 'produce', 'commit', 'lifting', 'remember', 'typical', 'tagged', 'serving', 'indeed', 'displayed', 'consulting', 'richards', 'whats', 'cold', 'still', 'acknowledge', 'forms', 'window', 'norway', 'introduce', 'half', 'nou', 'now', 'provision', 'hall', 'wont', 'galloway', 'james', 'drop', 'kerr', 'entirely', 'el', 'fired', 'challenged', 'ed', 'challenges', 'replay', 'year', 'eu', 'happen', 'avoided', 'shown', 'opened', 'bullish', 'space', 'antiwar', 'looking', 'benitez', 'opener', 'receiving', 'shows', 'carr', 'federations', 'obligation', 'card', 'care', 'marat', 'british', 'honest', 'industrialised', 'romania', 'tennis', 'striking', 'directly', 'impossible', 'message', 'drove', 'xv', 'tomorrow', 'size', 'caught', 'iaaf', 'households', 'friend', 'mostly', '1500m', 'jane', 'greenwood', 'television', 'recruit', 'optimism', 'portsmouth', 'remained', 'craig', 'premier', 'slam', 'anger', 'breakfast', 'recover', 'windsor', 'offering', 'veteran', 'equipment', 'online', 'objective', 'begin', 'price', 'importantly', 'successive', 'america', 'michelle', 'sprinting', 'reform', 'implications', 'mrs', 'sunset', 'ruck', 'professional', 'leicester', 'german', 'discovered', 'fifth', 'ground', 'title', 'saints', 'thompson', 'truly', 'baghdad', 'honours', 'prosecutions', 'husband', 'bulgaria', 'burst', 'physically', 'kiely', 'elected', 'sport', 'concern', 'israeli', 'tackling', 'seekers', 'justified', 'notice', 'blame', 'hurts', 'comeback', 'tgwu', 'talented', 'comes', 'exploit', 'learning', 'liberal', 'oliver', 'rebuild', 'informed', 'punished', 'wonderful', 'shortages', 'observers', 'fourtime', 'suspected', 'birchfield', 'hodgson', 'developing', 'might', 'trick', 'soil', 'heels', 'kenya', 'worry', 'develop', 'handled', 'media', 'inquiry', 'document', 'finish', 'closest', 'respected', 'tradition', 'mentally', 'complained', 'charges', 'constitutional', 'coordinate', 'charged', 'maternity', 'touch', 'speed', 'revaluation', 'death', 'thinking', 'improvement', 'parts', 'treatment', 'halftime', 'republic', 'struck', 'malcolm', 'momentum', 'overruling', 'real', 'desperately', 'rules', 'offence', 'early', 'lads', 'using', 'reap', 'ruled', 'mourinho', 'fortune', 'pounds', 'collective', 'benefit', 't', 'fully', 'bellamy', 'verbal', 'exposed', 'eddie', 'guillermo', 'primary', 'recorded', 'conservative', 'deficit', 'assembly', 'business', 'sixth', 'equivalent', 'tuition', 'lupoli', 'innocence', 'exciting', 'throw', 'brighton', 'central', 'journey', 'greatly', 'heavy', 'protests', 'inclusion', 'involvement', 'watchdog', 'intervention', 'prepare', 'area', 'qualifying', 'backbench', 'start', 'low', 'stars', 'valencia', 'jones', 'delayed', 'gunners', 'trying', 'fraud', 'improved', 'beliefs', 'kostas', 'describe', 'moved', 'sales', 'moves', 'hospitals', 'credibility', 'green', 'gambling', 'forcing', 'poor', '60m', 'pool', 'building', 'embracing', 'overseas', 'bolton', 'eriksson', 'pointing', 'month', 'deadline', 'publish', 'religious', 'griffin', 'referring', 'pledged', 'foster', 'safety', 'pledges', 'confidential', 'homes', 'hodges', 'parry', 'frederic', 'mps', 'decide', 'lazio', 'mile', 'streets', 'blairs', 'conscience', 'witnessed', 'emotions', 'witnesses', 'learned', 'iran', 'loose', 'answers', 'betsen', 'iraq', 'ahead', 'inspired', 'losses', 'amount', 'arent', 'uniquely', 'hogg', 'family', 'marginal', 'thatcher', 'ask', 'aimed', 'trained', 'khan', 'takes', '28yearold', 'contains', 'taken', 'injury', 'broke', 'producing', 'clijsters', 'ronan', 'coalition', 'offended', 'nine', 'budgets', 'guerrouj', 'history', 'pushed', 'firmly', 'clarke', 'stayed', 'unlucky', 'reject', 'controversially', 'tried', 'fa', 'tries', 'compulsory', '32yearold', 'chancellors', 'banks', 'dream', 'imanol', 'help', 'soon', 'held', 'committee', 'committed', 'hell', 'paulo', 'taxpayer', 'fined', 'labours', 'actually', 'absence', 'systems', 'fines', 'evening', 'motivated', 'food', 'arsenal', 'foot', 'bryan', 'sundays', 'occasions', 'stopped', 'referred', 'tods', 'neil', 'mcbryde', 'nalbandian', 'lawabiding', 'beyond', 'event', 'robert', 'since', 'temporary', 'douglas', 'abbasi', 'dominated', '\\xc2\\xa32000', 'issue', 'gardener', 'earns', 'norwich', 'story', 'houses', 'reason', 'base', 'brightest', 'put', 'turnout', 'launch', 'terrible', 'american', 'expecting', 'carling', 'undergo', 'reflected', 'miss', 'arbitration', 'horse', 'judgment', 'station', 'hundred', 'selling', 'jamie', 'jordan', 'umaga', 'scheme', 'grey', 'greg', 'deciding', 'wasnt', 'alongside', 'substantial', 'sentences', 'concentration', 'vulnerable', 'lie', 'flamini', 'lib', 'scotland', 'officers', 'labour', 'useless', 'aggravating', 'babayaro', 'towards', 'murrayfield', 'quota', 'freddie', 'kay', 'approved', 'salary', 'chronicle', 'mobile', 'performances', 'clear', 'clean', 'usual', 'twoyear', 'northern', 'duncan', 'justice', 'flights', 'pretty', 'arnesen', 'suspect', 'policing', 'meanwhile', 'zambia', 'punters', 'famous', 'feels', 'pretending', 'competing', 'falling', 'boost', 'withdrawal', 'switzerland', 'maurice', 'throwing', 'culture', 'close', 'runnerup', 'won', 'probably', 'conditions', 'missing', 'poorer', 'ranked', 'league', 'crosscourt', 'minorities', 'sensitive', 'forgotten', 'vault', 'liked', 'headed', 'whatever', 'header', 'likes', 'doping', 'rebate', 'swindon', 'ferrero', 'described', 'stamp', 'outstanding', 'maintenance', 'threaten', 'territory', 'empty', 'dame', 'lived', 'partly', 'packs', 'else', 'anthony', 'recalled', 'disruptive', 'squabbles', 'pact', 'look', 'wyatt', 'pace', 'reformed', 'luciano', 'cusiter', 'guide', 'pack', 'voters', 'mallon', 'ready', 'lacklustre', 'welshman', 'fairer', 'shaw', 'anymore', 'grant', 'belong', 'grand', 'conflict', 'sham', 'used', 'lawyers', 'blair', 'burnley', 'youngsters', '1000m', 'brussels', 'older', 'poland', 'obviously', 'sports', 'reviewed', 'retirement', 'informal', 'sprinter', 'guaranteed', 'exercising', 'questioned', 'remaining', 'sprinted', 'marco', 'march', 'lacking', 'showing', 'game', 'jibe', 'damage', 'signal', 'popular', 'saturdays', 'fathers', 'creation', 'pestons', 'metres', 'urgent', 'experienced', 'bruising', 'delivered', 'qatar', 'englishspeaking', 'competitions', '\\xc2\\xa32bn', 'foley', 'run', 'processing', 'stem', 'step', 'abroad', 'wealth', 'faith', 'wouldnt', 'oldham', 'block', 'seeing', 'within', 'nonsense', 'france', 'newsnight', 'behaving', 'statistics', 'parrys', 'accountability', 'consultation', 'disallowed', 'rees', 'russias', 'collapsed', 'frost', 'reiterated', 'properly', 'authority', 'russian', 'mcenroe', 'paolo', 'mikoliunas', 'hamann', 'chelsea', 'noone', 'ordered', 'adults', 'kidney', 'varga', 'prerogative', 'fears', 'nao', 'application', 'politicians', 'recognition', 'department', 'draw', 'spectators', 'reportedly', 'visits', 'frances', 'regulations', 'drag', 'councillors', 'swede', 'structure', 'e', 'outing', 'required', 'heath', 'depth', 'mcilroy', 'pearce', 'gb', 'go', 'mosque', 'baros', 'friendly', 'g8', 'telling', 'stiff', 'positions', 'michael', 'ryan', 'bournemouth', 'verdict', 'marconnet', 'enforce', 'blitz', 'jump', 'picked', 'plays', 'cell', 'referees', 'collins', 'kewell', 'nicholas', 'stance', 'commercial', 'believed', 'focused', 'convert', 'likened', 'coria', 'examining', 'danger', 'win', 'manage', 'buildup', 'remains', 'bourgoin', 'jonathan', 'reflects', 'belgian', 'bureaucracy', 'compatriot', 'formally', 'started', 'initial', 'criticising', 'israelis', 'rivalry', 'appointed', 'hrbaty', 'justin', 'announcing', 'bellamys', 'archer', 'crossed', 'servants', 'meet', 'control', 'beijing', 'kenny', 'links', 'escaped', 'sought', 'publicity', 'fearsome', 'friendlies', 'africans', 'biarritz', 'ferdinand', 'chiefs', 'advocates', 'agenda', 'favourites', 'longest', 'offences', 'including', 'mentioned', 'youngster', 'pensioners', 'hands', 'front', 'perpignan', 'literacy', 'masters', 'university', 'mode', 'ancram', 'nationals', 'candela', 'commonwealth', 'serbia', 'sands', 'measure', 'margins', 'horgan', 'special', 'confess', 'unlawful', 'boateng', 'may', 'activist', 'shambles', 'cause', 'achievements', 'delegates', 'completely', 'conservatives', 'celtics', 'route', 'maths', 'times', 'counterpart', 'keen', 'prospective', 'powerful', 'date', 'trinations', 'awarded', 'quality', 'pavey', 'management', 'privacy', 'data', 'belgrave', 'adopted', 'attack', 'ankle', 'perfectly', 'tourists', 'earmarked', 'chelseas', 'exactly', 'apologise', 'lists', 'overwhelming', 'outline', 'hines', 'ben', 'aspiration', 'claim', 'providing', 'spurs', 'enforced', 'julian', 'need', 'border', 'able', 'instance', 'issuing', 'tactic', 'oaten', 'detector', 'mongrel', 'medals', 'ivanovic', 'dubs', 'parenting', 'achilles', 'sa', 'consequences', 'upset', 'proceedings', 'talk', 'impression', 'parker', 'indoor', 'anyway', 'soldiers', 'partners', 'cyril', 'sheriff', 'earned', 'winner', 'hopeful', 'employer', 'toshack', 'fuel', 'employed', 'millwall', 'overall', 'joint', 'joins', 'werent', 'kong', 'dodgy', 'gray', 'processed', 'contain', 'grab', 'mourinhos', 'albania', 'faroe', 'pitch', 'immigrant', 'officials', 'desperate', 'operated', 'nightmare', 'dundee', '30yearold', 'written', 'horrible', 'neither', 'leamy', 'dwain', 'ken', 'sole', '23yearold', 'importance', 'jamieson', 'kicking', 'key', 'approval', 'thank', 'interpretations', 'limits', 'career', 'antisocial', 'minds', 'admit', 'tuesday', 'quit', 'addition', 'discrimination', 'kezman', 'cent', 'pelous', 'immense', 'treat', 'controlled', 'vince', 'goodison', 'smoking', 'brive', 'moya', 'tory', 'harder', '18yearold', '\\xc2\\xa3500m', 'backbenchers', 'surface', 'dems', 'stoica', 'began', 'sharapova', 'strange', 'speaker', 'party', 'navratilova', 'tapped', 'appearances', 'effect', 'fierce', 'frequently', 'spree', 'destruction', 'rift', 'safin', 'ashley', 'well', 'restore', 'increasingly', 'accurate', 'sources', 'mistakes', 'skill', 'lauren', 'patricia', 'mcconnell', 'maintaining', 'kick', 'sonia', 'fate', 'livid', 'historic', 'burden', 'immediately', 'prominent', 'loss', 'necessary', 'lost', 'fernando', 'payments', 'martin', 'refugees', 'page', 'shed', 'robredo', 'repeat', 'shes', 'home', 'peter', 'broad', 'demonstrated', 'reaching', 'monetary', 'expansion', 'londoners', 'freedom', 'incomes', '\\xc2\\xa3100m', 'equally', 'prutton', 'glenn', 'previously', 'washington', 'couldnt', 'accused', 'additional', 'notices', 'daniela', 'backhand', 'north', 'tomlinson', 'gain', 'courts', 'highest', 'laporte', 'grieve', 'signed', 'cruel', 'converted', 'stories', 'piece', 'display', 'urging', 'mackie', '800m', 'reservations', 'penny', 'education', 'mauro', 'contest', 'offensive', 'westminster', 'star', 'stay', 'calvisano', 'animosity', 'stam', 'friends', 'appoint', 'persistent', 'dallaglio', 'determination', 'nottingham', 'protest', 'asian', 'aides', 'captain', 'whose', 'ocallaghan', 'pensions', 'teaching', 'sorry', 'rescue', 'reforms', 'affect', 'vast', 'skills', 'companies', 'commons', 'frozen', 'orquera', 'enhance', 'heading', 'clothes', 'favoured', 'force', 'likely', 'even', 'prisons', 'ogara', 'spokesman', 'new', 'net', 'ever', 'seventh', 'men', 'drew', 'met', 'nanny', 'dry', 'antisemitic', 'economics', 'credit', 'fantastic', 'campaign', 'county', 'moral', 'broadcasters', 'criminals', 'army', 'arms', 'call', 'calm', 'robertson', 'type', 'tell', 'runnersup', 'supporters', 'warn', 'disruption', 'warm', 'adult', 'ward', 'room', 'rights', 'setup', 'hansen', 'unmarked', 'give', 'involve', 'contes', 'january', 'amazing', 'answer', 'massive', 'minority', 'replacing', 'president', 'attempt', 'third', 'maintain', 'goodbye', 'operate', 'athletes', 'operations', 'helens', 'murray', 'scoring', 'personal', 'better', 'differently', 'weeks', 'overcome', 'aston', 'combination', 'glazer', 'federer', 'arrested', 'lucy', 'mccall', 'victories', 'discipline', 'went', 'side', 'bone', 'mean', 'liga', 'principles', 'milan', 'trading', 'doug', 'aids', '10000m', 'crucial', 'content', 'casinos', 'surprise', 'kenteris', 'turning', 'resume', 'fava', 'revenge', 'struggle', 'starts', 'moving', 'stewart', 'reassure', 'grady', '25yearold', 'girls', 'hadnt', 'begins', 'distance', 'preparation', 'matter', 'persuade', 'silly', 'sees', 'palace', '\\xc2\\xa33bn', 'modern', 'mind', 'mine', 'seed', 'childcare', 'seen', 'seem', 'seek', 'tells', 'chest', 'kenenisa', 'cochairman', '\\xc2\\xa335m', 'mario', '21yearold', 'regular', 'maria', 'zealand', 'medical', 'deliberate', 'm', 'points', 'principle', 'consumer', 'discontent', 'beaten', 'hunger', 'probe', 'ending', 'katerina', 'attempts', 'peston', 'stepping', 'judges', 'explain', 'debts', 'judged', 'jailed', 'wearing', 'exports', 'antihunt', 'stop', 'coast', 'christopher', 'under21', 'quarters', 'child', 'bar', 'uncapped', 'bay', 'bad', 'baa', 'ban', 'decides', 'julien', 'reference', 'testing', 'sturgeon', 'decided', 'subject', 'brazil', 'said', 'duff', 'inappropriate', 'scrap', 'artificial', 'olympics', 'petr', 'sorts', 'tolerance', 'picking', 'suggested', 'fagin', 'contribution', 'confronted', 'appeared', 'hardworking', 'initiative', 'quinn', 'puts', 'basis', 'chepkemei', 'three', 'tiny', 'commission', 'recognised', 'interest', 'basic', 'entered', 'chela', 'threw', 'website', 'usada', 'runup', 'personally', 'aviation', 'sheridan', 'defending', 'ogaras', 'near', 'balance', 'employees', 'seven', 'metropolitan', 'mexico', 'manoeuvring', 'defeated', 'molik', 'cant', 'im', 'euthanasia', 'id', 'make', 'sidelined', 'potentially', 'unfortunate', 'sidelines', 'entitled', 'meets', 'declaring', 'delight', 'amicus', 'kim', 'opportunity', 'thoughts', 'kid', 'settled', 'failing', 'punishment', 'butragueno', 'materials', 'qualities', 'roma', 'claims', 'left', 'just', 'sentence', 'sporting', 'unfair', 'identify', 'human', 'facts', 'yes', 'yet', 'nicolas', 'buyers', 'belfast', 'candidate', 'regarded', 'character', 'magistrates', 'potential', 'save', 'opt', 'germanys', 'background', 'destroy', 'shoulder', 'performing', 'unnecessary', 'disillusioned', 'dechy', 'vaulter', 'somehow', 'elderly', 'normal', 'arguing', 'mcleish', 'confrontation', 'keeper', 'super', 'yelling', 'barbarians', 'nairobi', 'magazine', 'afternoon', 'islands', 'automatically', 'nerve', 'farrell', 'managers', 'subs', 'lied', 'amounted', 'jens', 'lies', 'cardiff', 'dowd', 'murderers', 'kilroysilks', 'flying', 'editor', 'farina', 'form', 'landing', 'pierre', 'failure', 'staged', 'economic', 'stages', 'propaganda', 'oleary', 'strengthening', 'classic', 'sale', 'adelaide', 'agreeing', 'generally', 'handed', 'gudjohnsen', 'savage', 'dies', 'felt', 'fell', 'authorities', 'weekend', 'died', 'billion', 'happening', 'apology', 'assume', 'daily', 'restored', 'shop', 'managed', 'themes', 'manager', 'manages', 'suicide', 'iraqs', 'father', 'answered', 'finally', 'praised', 'marks', 'suffered', 'adviser', 'llewellyn', 'advised', 'governments', 'die', 'dig', 'proposals', 'democrat', 'dip', 'round', 'strachan', 'olympic', 'talked', 'villa', 'dealing', 'stamford', 'semifinals', 'targets', 'afghanistan', 'adds', 'favour', 'lennon', '\\xc2\\xa310000', 'filled', 'guardian', 'mr', 'french', 'wait', 'box', 'boy', 'battling', 'institute', 'shift', 'bow', 'suggestion', 'bob', 'genuinely', 'teenage', 'useful', 'flexibility', 'licensing', 'verge', 'transplant', 'everybody', 'troops', 'visit', 'offside', 'newportgwent', 'parks', 'acceptable', 'downing', 'effort', 'fly', 'avoiding', 'growing', 'making', 'dispute', 'lords', 'predict', 'agent', 'council', 'dennis', 'sunday', 'detentions', 'mas', 'critics', 'gatlin', 'performanceenhancing', 'membership', 'designed', 'snp', 'guys', 'grow', 'man', 'neck', 'johnson', 'maybe', 'africas', 'borrowing', 'vieira', 'francais', 'switch', 'jail', 'african', 'hassan', 'gesture', 'serge', 'disclosure', 'bernabeu', 'pointed', 'northampton', 'argues', 'stability', 'cuts', 'argued', 'police', 'monitor', 'interesting', 'yorkshire', 'coaching', 'policy', 'mail', 'main', 'finance', 'views', 'rattled', 'killer', 'sooner', 'killed', 'rock', 'latin', 'zurich', 'equalised', 'manifesto', 'dibaba', 'summary', 'canada', 'living', 'jackson', 'dwayne', 'miles', 'emerged', 'dutch', 'dominate', 'correct', 'southwell', 'ajax', 'bayer', 'keith', 'milburn', 'advance', 'language', 'ministry', 'thing', 'highprofile', 'think', 'first', 'seychelles', 'fleeing', 'americans', 'long', 'suspended', 'carry', 'sounds', 'fiji', 'tiebreak', 'little', 'anyone', 'speaking', 'odriscoll', 'allegedly', 'undoubtedly', 'protected', 'defar', 'venture', 'gathering', 'preston', 'seal', 'conspiracy', 'scotlands', 'voiced', 'nazi', 'kevin', 'efficient', 'leinster', 'shocked', 'squad', 'bailey', 'performance', 'registered', 'channel', 'pain', 'norman', 'investigations', 'track', 'paid', 'complaints', 'secondhalf', 'queens', 'sutton', 'especially', 'surprising', 'precise', 'shot', 'show', 'hartlepool', 'sites', 'mirza', 'threshold', 'corner', 'curled', 'dick', 'behind', 'black', 'treasury', 'enthusiasm', 'ranking', 'get', 'contracts', 'employers', 'hailed', 'nearly', 'gen', 'secondary', 'utd', 'morning', 'stupid', 'finishing', 'worrying', 'affordable', 'declared', 'honesty', 'seat', 'dropgoal', 'sean', 'japan', 'jelena', 'wonder', 'forecast', 'enough', 'reading', 'across', 'dempsey', 'august', 'killing', 'jo', 'nationality', 'tuc', 'lopez', 'dates', 'rugby', 'similar', 'according', 'blasts', 'tour', 'steroid', 'disappointment', 'spare', 'holders', 'among', 'maintained', 'stretched', '3000m', 'disciplinary', 'custody', 'considering', 'sensible', 'unusual', 'capable', 'barry', 'mark', 'marr', 'constituencies', 'borders', 'offered', 'dramatic', 'wake', 'declaration', 'sound', 'apologised', 'ongoing', 'hislop', 'cancelled', 'investigating', 'margin', 'bonnaire', 'middle', 'pressing', 'baths', 'rowntree', 'different', 'pat', 'doctor', 'pay', 'heirs', 'speech', 'arguments', 'struggling', 'wimbledon', 'oil', 'antiterrorism', 'running', 'disadvantaged', 'totally', 'largely', 'accountable', 'solve', 'outdoor', 'kilroysilk', 'money', 'sights', 'careers', 'grip', 'bergkamp', 'credentials', 'aiming', 'disappointed', 'serves', 'thorpe', 'chamber', 'audience', 'either', 'served', 'fulfil', 'jews', 'imprisonment', 'wigan', 'images', 'ellis', 'confirm', 'critical', 'londons', 'seconds', 'lineout', 'broken', 'resign', 'william', '\\xc2\\xa35m', 'violence', 'practical', 'youve', 'mixed', 'provisional', 'road', 'auschwitz', 'belmarsh', 'hutton', 'distracted', 'appears', 'lions', 'decisive', 'duchy', 'strikes', 'striker', 'shortterm', 'ronaldo', 'emissions', 'manuel', 'adriano', 'deep', 'fellow', 'examine', 'enable', 'lifetime', 'illegal', 'film', 'fill', 'strikers', 'retiring', 'drivers', 'field', 'obsessed', 'students', 'important', 'chris', 'decorated', 'hugely', 'resolution', 'represent', 'forget', 'founder', 'devine', 'talks', 'fixtures', 'liam', 'children', 'reluctant', 'former', 'enjoying', 'straightforward', 'returning', 'letwin', 'fall', 'difference', 'goalkicking', 'steve', 'norfolk', 'mothers', 'arts', 'stringer', '20th', 'headtohead', 'andor', 'clinch', 'burger', 'zero', 'titles', 'perspective', 'lawyer', 'defence', 'stood', 'opted', 'tribute', 'public', 'movement', 'pozzebon', 'promising', 'squeezed', 'operating', 'endured', 'conte', 'campaigns', 'speeches', 'prosecutors', 'division', 'jackie', 'airport', 'misery', 'narrow', 'tiananmen', 'injurytime', 'africa', 'establish', 'suspensions', 'eye', 'composure', 'hardcourt', 'humphreys', 'two', 'comparing', 'paterson', 'sculthorpe', 'achieving', 'bulgarian', 'magpies', 'landed', 'controlling', 'lleyton', 'particular', 'town', 'none', 'hour', 'recall', 'der', 'remain', 'del', 'dem', 'den', 'refugee', 'share', 'conceding', 'minimum', 'numbers', 'sharp', 'robinson', 'biography', 'narrowly', 'needs', 'acts', 'csa', 'fullback', 'redwood', 'advice', 'questioning', 'blood', 'coming', 'wave', 'response', 'brady', 'secs', 'responsibility', 'playing', '31yearold', 'setback', 'appeals', 'suffer', 'winger', 'thrilling', 'pcs', 'late', 'quarterfinals', 'curfews', 'someone', 'seeking', 'limped', 'oxford', 'complain', 'association', 'porto', 'robbie', 'hails', 'eager', 'rhys', 'harm', 'everyone', 'mental', 'house', 'energy', 'hard', 'idea', 'foxes', 'engaging', 'extended', 'callup', 'hart', 'insurance', 'mcallister', 'initiatives', 'funding', 'redknapp', 'acting', 'edging', 'lawrence', 'enforcing', 'extraordinary', 'croucher', 'giveaway', 'members', 'backed', 'dorset', 'beginning', 'benefits', 'barbara', 'sainsbury', 'conducted', 'pleas', 'dont', 'done', 'wages', 'divorce', 'iraqi', 'least', 'regulation', 'statement', 'rates', 'park', 'part', 'doctors', 'believe', 'b', 'dossier', 'youth', 'strathclyde', 'contrary', 'supposed', 'treated', 'ages', 'parmar', 'aged', 'orders', '25yard', 'built', 'majority', 'build', 'province', 'serena', 'significant', 'services', 'extremely', 'southampton', 'mediation', 'blunkett', 'chester', 'joining', 'sector', 'thomas', 'particularly', '26yearold', 'obligations', 'commissions', 'relation', 'carefully', 'headlines', 'fine', 'find', 'giant', 'dividing', 'merger', 'nervous', 'unhappy', 'extratime', 'weve', 'therefore', 'santoro', 'express', 'osullivans', 'courage', 'lining', 'resolve', 'doubled', 'garcia', 'common', 'doubles', 'cynical', 'geoff', 'individual', 'leslie', '11th', 'forthcoming', 'feared', 'expert', 'visiting', 'please', 'fans', 'rennard', 'seeded', 'responses', 'guantanamo', 'scene', 'reverse', 'annual', 'foreign', 'digby', 'point', 'simple', 'simply', 'gavin', 'throughout', 'expensive', 'ensures', 'raise', 'create', 'rivals', 'secret', 'dropping', 'ireland', 'meeting', 'gap', 'understand', 'prices', 'resisted', 'replaces', 'politician', 'solid', 'bill', 'elections', 'ewood', 'replaced', 'fun', 'gateshead', 'portugal', 'century', 'italy', 'proved', 'ruth', 'development', 'olivier', 'yesterday', 'moment', 'purpose', 'task', 'spent', 'withdraw', 'y', 'entry', 'spend', 'hasselbaink', 'shape', 'alternative', 'injuries', 'letting', 'cut', 'cup', 'ofsted', 'shouting', 'deliberately', 'snap', 'big', 'campbells', 'judgement', 'matters', 'bit', 'carers', 'knock', 'follows', 'foolish', 'often', 'absolutely', 'obliged', 'magnificent', 'back', 'strongest', 'examples', 'mirror', 'brent', 'facing', 'scale', 'affects', 'decision', 'per', 'epic', 'patient', 'wayward', 'clay', 'continuing', 'use', 'fee', 'gibbons', 'slams', 'goode', 'jimmy', 'medallist', 'abusive', 'martinez', 'steven', 'cockbain', 'kuznetsova', 'osullivan', 'infected', 'forward', 'opponent', 'byrne', 'murphy', 'immigration', 'butlers', 'hoped', 'boys', 'underlined', 'servat', 'hopes', 'legacy', 'possession', 'stripped', 'single', 'clever', 'mcletchie', 'johnsons', 'denying', 'arsene', 'leaflet', 'theyll', '200m', 'becomes', 'explaining', 'favourite', 'prepared', 'luscombe', 'prepares', 'yann', 'rallied', 'obrien', 'teams', 'failures', 'jason', 'antidoping', 'ljubicic', 'shevchenko', 'intensive', 'saga', 'breaches', 'helps', 'internment', 'unbeaten', 'putting', 'accuse', 'touchline', 'entire', 'shock', 'clarkes', 'havent', 'clive', 'chicago', 'giving', 'falcons', 'access', 'exercise', 'body', '50th', 'jointly', 'intercept', 'others', 'luis', 'safer', 'extreme', 'remark', 'talent', 'ceri', 'proof', 'named', 'private', 'names', 'scandal', 'clocking', 'butler', 'tax', 'payne', 'trail', 'train', 'ashamed', 'billed', 'hints', 'account', 'f', 'tunnel', 'gabriel', 'obvious', 'praise', 'industrial', 'closing', 'didnt', 'radcliffe', 'effectively', 'reserves', 'contempt', 'native', 'democracy', 'boxing', 'responsibilities', 'winners', 'forest', 'profile', 'buildings', 'sir', 'physio', 'conchita', 'legality', 'dominici', 'chasing', 'chief', 'furious', 'subsequently', 'despite', 'telephoning', 'agricultural', 'la', 'lo', 'li', 'willing', 'criminal', 'eus', 'stepped', 'greater', 'dal', 'spell', 'mention', 'cutting', 'insisting', 'squabbling', 'day', 'applicants', 'perugini', 'february', 'airports', 'warned', 'countries', 'identified', 'philippoussis', 'bortolami', 'morris', 'latham', 'flair', 'programmes', 'arjen', 'matt', 'defend', 'socalled', 'ref', 'red', 'harold', 'approached', 'frank', 'sprinters', 'mido', 'backwards', 'allies', 'deprived', 'qualification', 'retain', 'south', 'justine', 'sack', 'strategic', 'embarrassed', 'improvements', 'reached', 'sadly', 'roche', 'balco', 'mondays', 'pakistani', 'gear', 'completed', 'acquire', 'lamont', 'environmental', 'alevels', 'deeply', 'loved', 'sweden', 'visited', 'comfortable', 'comfortably', 'unlikely', 'apparently', 'allparty', 'dallas', 'incentive', 'montgomery', 'mix', 'concerns', 'kaplan', 'provoked', 'unless', 'eight', 'prisoner', 'capacity', 'payment', 'sfa', 'gather', 'frederick', 'disease', 'milans', 'occasion', 'normally', 'mi6', 'selection', 'text', 'supported', 'supporter', 'staff', 'grabbed', 'knowledge', 'controls', 'bernard', 'regularly', 'exceptional', 'beat', 'hopman', 'timing', 'areas', 'sociedad', 'matchwinning', 'cicero', 'calling', 'finegold', 'exists', 'national', 'brixton', 'greece', 'attempting', 'pattern', 'helped', 'difficulties', 'bruno', 'routine', 'progress', 'bramble', 'deliver', '\\xc2\\xa325m', 'ongaro', 'cymru', 'kilbride', 'taking', 'equal', 'assure', 'passing', 'hamstring', 'otherwise', 'comment', 'brennan', 'denis', '20yearold', 'earning', 'watkins', 'tremendous', 'darren', 'permanent', 'upbeat', 'proposal', 'define', 'angled', 'juninho', 'finished', 'tense', 'general', 'divisions', 'plaid', 'splits', 'plain', 'appearance', 'value', 'promotes', 'promoted', 'frustrating', 'almost', 'weighed', 'arrangements', 'claimed', 'partner', 'administration', 'defiant', 'stansted', 'injured', 'practice', 'moyes', 'reporting', 'traille', 'ioc', 'weapon', 'antonio', 'thought', 'sets', 'position', 'muscle', 'latest', 'executive', 'domestic', 'stored', 'seats', 'protecting', 'liverpools', 'bench', 'add', 'citizen', 'match', 'gmt', 'resolved', 'tests', 'judiciary', 'string', 'dubai', 'like', 'success', 'admitted', 'journalist', 'works', 'soft', 'italian', 'accessible', 'hain', 'alive', 'wider', 'gaudio', 'recommendation', 'proper', 'happens', 'joachim', 'regain', 'noise', 'slight', 'dca', 'host', 'although', 'worthy', 'zeeuw', 'panel', 'ranieri', 'boards', 'withdrew', 'msps', 'introduced', 'ways', 'childrens', 'billions', 'tackle', 'guard', 'doesnt', 'esteem', 'female', '27yearold', 'midfielder', 'quickly', 'rushed', 'smit', 'ibrox', 'biggest', 'relishing', 'touted', 'ivory', 'buy', 'bus', 'mauresmo', 'preparations', 'repeated', 'csos', 'cantona', 'embargo', 'hinshelwood', 'princes', 'glory', 'dangerous', 'j', 'minutes', 'yapp', 'easterby', 'supreme', 'deaths', 'supremo', 'pig', 'periods', 'families', 'dawson', 'shooting', 'eerdekens', 'claiming', 'detail', 'detain', 'semis', '22yearold', 'starting', '4s', 'limited', 'criminally', '\\xc2\\xa3500000', 'poorly', 'replacements', 'paris', 'poorest', 'whatsoever', 'pride', 'lure', 'risk', 'rise', 'every', 'jack', 'uniteds', 'encounter', 'school', 'venue', 'venus', 'enjoy', 'leaders', 'consistent', 'guidelines', 'direct', 'surrounding', 'street', 'estimated', 'blue', 'hide', 'selected', 'liberty', 'conduct', 'seeks', 'philippe', 'rougerie', 'kicked', 'licences', 'hundreds', 'kicker', 'represented', 'path', 'property', 'forum', 'leaves', 'changed', 'fulltime', 'changes', 'midway', 'exeter', 'powys', 'straw', 'feelings', 'visible', 'middlesbrough', 'santini', 'heathrow', 'hospital', 'distributing', 'asset', 'bbcs', '25th', 'assessment', 'naive', 'phone', 'excellent', 'outdated', 'must', 'shoot', 'stade', 'join', 'mp', 'ms', 'henry', 'keep', 'attract', 'guarantee', 'ceremony', 'end', 'sitting', 'finalist', 'writers', 'accusations', 'widespread', 'badly', 'costed', 'mess', 'demanding', 'equaliser', 'titterrell', 'provisionally', 'danny', 'amid', 'acknowledged', 'harley', 'ultimate', 'enter', 'reforming', 'expects', 'london', 'expectations', 'writing', 'destroyed', 'corinthians', 'prevented', 'wednesdays', 'netherlands', 'alex', 'herald', 'victory', 'fitness', 'lasting', 'signing', 'diane', 'group', 'saturday', 'overcame', 'driving', 'laid', 'millennium', 'banning', 'got', 'oconnell', 'independence', 'perception', 'hang', 'free', 'rain', 'boosting', 'wanted', 'pubs', 'longterm', 'days', 'priorities', 'bogdanovic', 'onto', 'gloucester', 'already', 'encouraging', 'hearing', 'jeanphilippe', 'relations', 'nhs', 'revival', 'top', 'tom', 'urban', 'murder', 'serve', 'took', 'solicitor', 'brushed', 'wilkinson', 'warmup', 'immigrants', 'final', 'classes', '10th', 'raf', 'bridge', 'fashion', 'ran', 'corrigan', 'talking', 'relatively', 'thoroughly', 'effectiveness', 'though', 'plenty', 'promotions', 'peers', 'tanzania', 'devastating', 'treaty', 'reputation', 'enterprise', 'entertaining', 'contacted', 'reductions', 'queen', 'radio', 'solutions', 'earth', 'bail', '17yearold', 'situations', 'delays', 'gravesen', 'lodge', 'announce', 'watch', 'wedding', 'report', 'gareth', 'pressed', 'spokesperson', 'twice', 'shots', 'automatic', '29yearold', 'swept', 'kinnock', '1960s', 'henrys', 'slotted', 'finger', 'hopefully', 'approach', 'sendingoff', 'jose', 'confusion', 'weak', 'however', 'boss', 'wear', 'dedication', 'news', 'rochus', 'improve', 'faced', 'protect', 'fault', 'defra', 'players', 'games', 'bet', 'faces', 'expense', 'betting', 'epidemic', 'trust', 'bureaucratic', 'conference', 'wright', 'binge', 'faltering', 'alistair', 'confident', 'expected', 'drugs', 'search', 'catch', 'n', 'teachers', 'stopping', 'experts', 'suggest', 'threeday', 'linked', 'complex', 'several', 'welsh', 'published', 'fridays', 'positives', 'tzekos', 'insisted', 'cycle', 'shortly', 'europes', 'charlie', 'savings', 'greatest', 'detained', 'mother', 'hearts', 'proposed', 'unemployment', 'proposes', 'campbell', 'resigning', 'persico', 'monitored', 'roddicks', 'teenager', 'gave', 'breaks', 'newcastle', 'judge', 'burns', 'advanced', 'apart', 'appearing', 'gift', 'hunt', 'specific', 'indoors', 'offices', 'officer', 'hung', 'successfully', 'clubs', 'election', 'escape', '24hour', 'cooper', 'clash', 'icm', 'everything', 'musharraf', 'christmas', 'ict', 'core', 'hartson', 'disappeared', 'wrightphillips', 'intentions', 'attacks', 'sidoli', 'dinner', 'plus', 'ospreys', 'presence', 'civil', 'rafa', 'bath', 'coastal', 'electorate', 'rely', 'stuck', 'anderson', 'fought', 'fairness', 'head', 'medium', 'attempted', 'heal', 'differences', 'heat', 'hear', 'sustained', 'removed', 'admiration', 'bids', 'heinze', '\\xc2\\xa32500', 'camara', 'trio', 'suspicions', 'grewcock', 'hamm', 'intoppa', 'check', 'regime', 'pledging', 'marys', 'tim', 'setting', 'papers', 'tie', 'picture', 'football', 'younger', 'longer', 'serious', 'coach', 'remarkable', 'affair', 'rob', 'nitoglia', 'focus', 'leads', 'roy', 'marion', 'row', 'passage', 'environment', 'charge', 'promoting', 'federation', 'advantage', 'pompey', 'cook', 'cool', 'impressive', 'level', 'posts', 'brother', 'standards', 'quick', 'says', 'tougher', 'trend', 'colin', 'substitute', 'drinks', 'constitution', 'backbencher', 'debate', 'goes', 'ashdown', 'tykes', 'water', 'groups', 'based', '24yearold', 'rethink', 'guilty', 'mauritius', 'grandclaude', 'rafael', 'emerge', 'capriati', 'chaired', 'ethiopian', 'parma', 'crisis', 'russell', 'australias', 'scan', 'athens', 'memorial', 'abbas', 'andy', 'memory', 'australian', 'today', 'sessions', 'cases', 'states', 'thousands', 'achieve', 'streak', 'figure', 'newlook', 'performed', 'counting', 'parliamentary', 'inheritance', 'begg', 'secured', 'watching', 'vital', 'cardinal', 'fourth', 'ensure', 'speaks', 'secures', 'huge', 'crashed', 'birthday', 'tipped', 'efforts', 'classroom', 'tories', 'succeeded', 'inform', 'representation', 'kiefer', 'constituents', 'mainly', 'blocked', 'wallace', 'organisation', 'platform', 'offers', 'happened', 'qualifier', 'unveiling', 'bound', 'qualified', 'hamilton', 'browns', 'kluft', 'term', 'equality', 'name', 'realistic', 'realise', 'semifinal', 'individually', 'kluivert', 'begun', 'plans', 'ultimately', 'tensions', 'attracted', 'kent', 'castaignede', 'theory', 'holocaust', 'accommodation', 'impose', 'turn', 'place', 'swing', 'turf', 'teammates', 'origin', 'revenue', 'commissioners', 'dutchman', 'george', 'millions', 'given', 'ian', 'leverkusen', 'europe', 'returns', 'convention', 'dellape', 'legally', 'white', 'gives', 'briton', 'cope', 'season', 'alan', 'callaghan', 'released', 'italys', 'freeze', 'holder', 'population', 'wide', 'unfortunately', 'require', 'diplomatic', 'spokeswoman', 'r', 'cards', 'outcome', 'sella', 'meldrum', 'worcester', 'mates', 'michels', 'marathon', 'prosperity', 'conversion', 'ideas', 'phillips', 'ideal', 'captained', 'urge', 'sure', 'clearer', 'visitors', 'donation', 'stormed', 'cleared', 'tendon', 'considered', 'later', 'senior', 'cheap', 'tend', 'srichaphan', 'state', 'crime', 'wood', 'masai', 'oconnor', 'phonetap', 'closure', 'reveal', 'regarding', 'paper', 'predicted', 'spaniard', 'ignored', '\\xc2\\xa340m', 'college', 'stanley', 'encouraged', 'fails', 'voluntary', 'mortgage', 'generosity', 'houllier', 'subsequent', 'review', 'definite', 'commitments', 'weapons', 'outside', 'joy', 'aurelien', 'arrival', 'rumours', 'sacked', 'cities', 'come', 'reaction', 'efficiency', 'successes', 'region', 'quiet', 'contract', 'prompted', 'deported', 'duty', 'pakistan', 'afterwards', 'period', 'insist', 'pole', 'pundits', 'yannick', 'nicola', 'poll', 'turkey', 'didier', 'teammate', 'howard', 'delaigue', 'hardly', 'robben', 'andrew', 'minister', 'andrea', 'irrelevant', 'spirit', 'paying', 'hughes', 'mount', 'cash', 'cast', 'shops', 'hunts', 'telephone', 'couples', 'good', 'ironic', 'bowe', 'irelands', 'granted', 'reminded', 'trip', 'gomarsall', 'events', 'week', 'refusal', 'driven', 'statutory', 'changing', 'vowed', 'relegation', 'without', 'relief', 'relied', 'reward', 'bodies', 'guided', 'ninth', 'violent', 'kill', 'harrison', 'halfway', 'blow', 'announcement', '4x100m', 'rose', 'seems', 'wall', 'lets', 'poised', 'twotime', 'ross', 'kingdom', 'easily', 'shearer', 'inflation', 'accepted', 'leftback', 'kennedy', 'patrick', 'robson', 'petrie', 'donations', 'reduced', 'scored', 'almunia', 'madrid', 'competition', 'table', 'provided', 'mood', 'dunbar', 'legal', 'provides', 'quitting', 'freed', 'ok', 'discussed', '\\xc2\\xa35000', 'stand', 'gregory', 'cambridge', 'rising', 'determine', 'gary', 'racism', 'racist', 'budd', 'fish', 'morrison', 'catholics', 'regard', 'amongst', 'cabinet', 'promote', 'faster', 'internationals', 'applying', 'grasp', 'grass', 'strongly', 'aceh', 'troncon', 'britain', 'politics', 'blues', 'hasnt', 'deserve', 'rubber', 'announcements', 'briefly', 'championship', 'detainees', 'infighting', 'includes', 'recognise', 'included', 'finals', 'booked', 'arsenals', 'calls', 'wife', 'invest', 'odds', 'barcelona', 'directors', 'gurkhas', 'chinese', 'scrappy', 'lack', 'sotherton', 'earners', 'follow', 'settlement', 'decisions', 'jerome', 'hantuchova', 'subjected', 'thursday', 'removal', 'bosvelt', 'activities', 'woman', 'worse', 'far', 'sons', 'fan', 'clinched', 'regiments', 'list', 'mcmanaman', 'programme', 'tel', 'ten', 'haas', 'rate', 'belief', 'firstchoice', 'beattie', 'sum', 'brief', 'version', 'attitudes', 'racing', 'guns', 'christian', 'theresa', 'behaviour', 'leeds', 'andrews', 'tragedy', 'allows', 'calder', 'options', 'sticking', 'wardle', 'suddenly', 'branded', 'markets', 'minor', 'israel', 'knows', 'basically', 'known', 'glad', 'debates', 'debated', 'v', 'challenging', 'prompting', 'mandelson', 'influenced', 'court', 'goal', 'rather', 'souness', 'breaking', 'shouldnt', 'okay', 'reflect', 'concentrating', 'short', 'susan', 'departure', 'trevor', 'turnover', 'september', 'developed', 'mission', 'disabled', 'isnt', 'inquiries', 'islam', 'style', 'slipped', 'clashed', 'electioneering', 'resort', 'scot', 'stephen', 'argentina', '34yearold', 'argentine', 'somebody', 'framework', 'communities', 'bigger', 'instructions', 'shanklin', 'turns', 'athletics', '5000m', 'weight', 'generation', 'fixture', 'expect', 'organised', 'alcohol', 'presenter', 'health', 'hill', 'borthwick', 'friday', 'saulnier', 'heads', 'teach', 'thrown', 'svetlana', 'prejudice', 'circuit', 'fallen', 'feel', 'radical', 'linking', 'feet', 'enlarged', 'fees', 'passes', 'pensioner', 'leading', 'interviews', 'passed', 'finances', 'recovered', 'option', 'relieved', 'hotel', 'wenger', 'convinced', 'king', 'kind', 'double', 'menzies', 'aims', 'risks', 'nathalie', 'cleaner', 'motivation', 'igor', 'strengthen', 'saracens', 'carrying', 'wilson', 'nights', 'chairman', 'finding', 'donor', 'gill', 'added', 'warnings', 'intervened', 'mentality', 'measures', 'reach', 'react', 'sandra', 'nothing', 'seasons', 'achievement', 'stands', 'traditional', 'contenders', 'lying', 'excessive', 'securing', 'boothroyd', 'penalty', 'hip', 'shepherd', 'hit', 'hiv', 'lehmann', 'alicia', 'whistle', 'fastest', 'emails', 'luton', 'investigate', 'activity', 'sustainable', 'vincent', 'wrote', 'bars', 'achieved', 'intelligence', 'cleverly', 'chambers', 'heaped', 'arm', 'declined', 'threats', 'unions', 'various', 'consecutive', 'swansea', 'corruption', 'raynsford', 'tactically', 'korea', 'recently', 'creating', 'initially', 'sold', 'attention', 'outfit', 'succeed', 'opposition', 'betrayed', 'citys', 'bronze', 'c', 'myskina', 'roman', 'became', 'context', 'reasons', 'smith', 'serwotka', 'dudek', 'village', 'simpler', 'pr', 'decline', 'duo', 'selfbelief', 'political', 'due', 'strategy', 'fairford', 'reduction', 'pm', 'referee', 'flight', 'demand', 'indefinitely', 'theres', '\\xc2\\xa31bn', 'dublin', 'disappointing', 'frantic', 'rid', 'ignacio', 'lengthy', 'shirt', 'widely', 'peoples', 'advise', 'higher', 'negotiate', 'holidays', 'arrived', 'contractors', 'lower', 'lewsey', 'anybody', 'analysis', 'edge', 'inspirational', 'bounced', 'polled', 'competitive', 'questions', 'prince', 'workers', 'exhibition', 'complaint', 'harriers', 'advocate', 'moody', 'ignore', 'essential', 'hinted', 'understood', 'secretarys', 'preparing', 'gradually', 'prop', 'januarys', 'prof', 'anne', 'jumps', 'lose', 'weir', 'refused', 'consolation', 'refuses', 'bayern', 'intense', 'vaccine', 'ruddock', 'cautious', 'completing', 'firing', 'range', 'cech', 'hatred', 'womens', 'gatwick', 'msp', 'impressed', 'sonny', 'pundit', 'question', 'fast', 'gough', 'sections', 'files', 'repeatedly', 'filed', 'junior', 'raising', 'stalking', 'highlight', 'called', 'associated', 'coordinator', 'warning', 'rally', 'graham', 'peace', 'backs', 'nick', 'income', 'tps', 'mock', 'nice', 'problems', 'helping', 'meaning', 'allowing', 'posters', 'suffers', 'happier', 'departments', 'attacking', 'demonstrates', 'international', 'issued', 'mardy', 'edu', 'contributions', 'issues', 'simon', 'itll', 'stable', 'breach', 'include', 'dramatically', 'tribunal', 'spoon', 'drinking', 'duffy', 'deals', 'polling', 'dealt', 'atletico', 'concluded', 'smaller', 'fold', 'kooyong', 'universities', 'concessions', 'tuesdays', 'waiting', 'capital', 'alqaeda', 'impact', 'bethnal', 'michalak', 'chose', 'degree', 'pushing', 'youngest', 'explore', 'scrapped', 'larger', 'leaving', 'kilroy', 'suggests', 'toulousain', 'reds', 'deputy', 'egypt', 'captaincy', 'apply', 'fed', 'misrepresentation', 'usa', 'bitterly', 'timetable', 'sort', 'parliament', 'journalists', 'impress', 'infection', 'sayeed', 'women', 'ashcroft', 'anywhere', 'dropped', 'quinns', 'something', 'serial', 'summers', 'united', 'sit', 'six', 'brian', 'instead', 'goldsmith', 'tension', 'hurdles', 'attend', 'masks', 'abuse', 'wrist', 'ethnic', 'highlands', 'light', 'villas', 'flyhalf', 'elia', 'harinordoquy', 'whilst', 'looks', 'costacurta', 'assurances', 'blears', 'choose', 'covered', 'holiday', 'crowds', 'pending', 'campaigned', 'crash', 'contention', 'hoddle', 'material', 'ferguson', 'ambition', 'successor', 'worlds', 'scrumhalf', 'darcy', 'eased', 'bills', 'firstteam', 'registration', 'remove', 'category', 'reoffending', 'supports', 'promptly', 'york', 'g', 'islamic', 'conversation', 'lta', 'adrian', 'castrogiovanni', 'walter', 'rovers', 'publication', 'eighth', 'priority', 'neathswansea', 'kellys', 'regards', 'ludovic', 'july', 'institution', 'hearings', 'holland', 'tommy', 'patients', 'worsley', 'cohen', 'teenagers', 'vignal', 'unremittingly', 'levelled', 'catholic', 'afraid', 'angle', 'pupils', 'russians', 'agency', 'combat', 'centre', 'petrol', 'petrov', 'class', 'deny', 'dent', 'looked', 'fowler', 'uefa', 'goals', 'chances', 'electoral', 'agreed', 'lewisfrancis', 'planning', 'democrats', 'fear', 'eyes', 'agrees', 'threetest', 'candidates', 'local', 'campese', 'cuba', 'ones', 'words', 'freekick', 'ended', 'married', 'qc', 'cells', 'view', 'unison', 'knowing', 'merits', 'closer', 'cole', 'televised', 'superb', 'targeted', 'closed', 'limit', 'frustrated', 'bought', 'ability', 'opening', 'hutt', 'mirco', 'agencies', 'job', 'takeover', 'joe', 'jol', 'jon', 'respondents', 'april', 'tactical', 'grounds', 'unclear', 'tunisia', 'walk', 'respect', 'withdrawn', 'decent', 'bbc', 'mike', 'liverpool', 'miscarriages', 'sufficient', 'scrutiny', 'ensuring', 'hansard', 'overturn', 'present', 'leicesters', 'abandoned', 'unlike', 'choices', 'will', 'stunning', 'sebastien', 'wild', 'supply', 'paulas', 'dual', 'perhaps', 'cross', 'member', 'unity', 'largest', 'gets', 'difficult', 'dallaglios', 'coached', 'diploma', 'coaches', 'student', 'lobby', 'warming', 'celtic', 'correspondent', 'approve', '\\xc2\\xa335bn', 'fighting', 'premiership', 'spectator', 'english', 'firstly', 'drogba', 'realised', 'nadal', 'routinely', 'obtain', 'blackpool', 'fishing', 'rocked', 'antisemitism', 'bell', 'sky', 'discuss', 'attractive', 'smart', 'acted', 'protesters', 'know', 'press', 'mubanga', 'prebudget', 'taxpayers', 'hosts', 'veritas', 'lansdowne', 'scared', 'church', 'searching', 'growth', 'empire', 'employment', 'jeremy', 'lead', 'leap', 'leader', 'bowyer', 'interval', '\\xc2\\xa3150000', 'throne', 'rare', 'carried', 'extension', 'getting', 'urged', 'surge', 'hivaids', 'outset', 'promise', 'lawful', 'significantly', 'convicted', 'van', 'transfer', 'munster', 'captains', 'intention', 'shane', 'funds', 'made', 'tactics', 'whether', 'record', 'ruling', 'cake', 'demonstrate', 'fabregas', 'trailing', 'naming', 'goldsmiths', 'mutual', 'incredible', 'boot', 'debutant', 'book', 'boom', 'branch', 'toured', 'illegally', 'quashie', 'june', '100m', 'margaret', 'ranks']\n"
     ]
    }
   ],
   "source": [
    "min_count = 5\n",
    "size = 100\n",
    "window = 4\n",
    "\n",
    "#sentences = docs;\n",
    "#docs = doc_topic_dict[9]\n",
    "model = Word2Vec(cleaned_text_all, min_count=min_count, size=size, window=window , hs =1 ,)\n",
    "#sentences = docs\n",
    "# train model\n",
    "#model = Word2Vec(sentences, min_count=1)\n",
    "# summarize the loaded model\n",
    "print(model)\n",
    "# summarize vocabulary\n",
    "words = list(model.wv.vocab)\n",
    "print(words)\n",
    "# access vector for one word\n",
    "#print(model['sentence'])\n",
    "# save model\n",
    "model.save('model_survey.bin')\n",
    "# load model\n",
    "new_model = Word2Vec.load('model_survey.bin')\n"
   ]
  },
  {
   "cell_type": "raw",
   "metadata": {},
   "source": [
    "For testing purpose we choose 15 documents/sentences from sports and politics and use our built model to find the similarity score."
   ]
  },
  {
   "cell_type": "code",
   "execution_count": 32,
   "metadata": {},
   "outputs": [],
   "source": [
    "cleaned_text_test_sports=cleaned_text[:15]\n",
    "cleaned_text_test_pol= cleaned_text_pol[:15]"
   ]
  },
  {
   "cell_type": "code",
   "execution_count": 33,
   "metadata": {},
   "outputs": [],
   "source": [
    "final_=[]\n",
    "for i in xrange(len(cleaned_text_test_sports)):\n",
    "    cleaned_text_0= cleaned_text_test_sports[i]\n",
    "    for j in xrange(len(cleaned_text_test_pol)):\n",
    "        cleaned_text_1= cleaned_text_test_pol[j]\n",
    "        \n",
    "        if i==j:\n",
    "            pass\n",
    "        else:\n",
    "            sim_=[]\n",
    "            for words in cleaned_text_0:\n",
    "                for words1 in cleaned_text_1:\n",
    "                    try:\n",
    "                        sim_.append(model.wv.similarity(words,words1))\n",
    "                    except KeyError:\n",
    "                        pass\n",
    "            final_.append((np.median(sim_),i,j))\n",
    "            \n",
    "            "
   ]
  },
  {
   "cell_type": "code",
   "execution_count": 41,
   "metadata": {},
   "outputs": [
    {
     "name": "stdout",
     "output_type": "stream",
     "text": [
      "[(0.49882524638943093, 0, 1), (0.55456138761290186, 0, 2), (0.55256259028501797, 0, 3), (0.32269257201731139, 0, 4), (0.46903553061274017, 0, 5), (0.52339254289011716, 0, 6), (0.46458535895485076, 0, 7), (0.50142885758503208, 0, 8), (0.5050402311400114, 0, 9), (0.45124190356575822, 0, 10)]\n"
     ]
    }
   ],
   "source": [
    "print final_[:10]"
   ]
  },
  {
   "cell_type": "raw",
   "metadata": {},
   "source": [
    "It shows the similarity between 0th sentence of sports and 1st sentence of politics as 0.49, which should be since they are from two different domains.\n",
    "When we have a look at them:\n",
    "\n",
    "sports:['fuming', 'robinson', 'blasts', 'officials']\n",
    "politics:['former','labour','leader','neil','kinnock','officially','made','life','peer','ceremony','house','lords'],\n",
    "\n",
    "they are totally different, thus justifying the score of 0.49. If we would consider finding similarity from docs of similar genre we woul expect the similarity score to be rather high.\n"
   ]
  },
  {
   "cell_type": "code",
   "execution_count": null,
   "metadata": {},
   "outputs": [],
   "source": []
  }
 ],
 "metadata": {
  "kernelspec": {
   "display_name": "Python 2",
   "language": "python",
   "name": "python2"
  },
  "language_info": {
   "codemirror_mode": {
    "name": "ipython",
    "version": 2
   },
   "file_extension": ".py",
   "mimetype": "text/x-python",
   "name": "python",
   "nbconvert_exporter": "python",
   "pygments_lexer": "ipython2",
   "version": "2.7.13"
  }
 },
 "nbformat": 4,
 "nbformat_minor": 2
}
