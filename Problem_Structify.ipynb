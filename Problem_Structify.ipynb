{
  "nbformat": 4,
  "nbformat_minor": 0,
  "metadata": {
    "colab": {
      "provenance": [],
      "authorship_tag": "ABX9TyO3IZ/SRHBNn2GRN8erpDU5",
      "include_colab_link": true
    },
    "kernelspec": {
      "name": "python3",
      "display_name": "Python 3"
    },
    "language_info": {
      "name": "python"
    }
  },
  "cells": [
    {
      "cell_type": "markdown",
      "metadata": {
        "id": "view-in-github",
        "colab_type": "text"
      },
      "source": [
        "<a href=\"https://colab.research.google.com/github/vikash06131721/Miscallaneous/blob/master/Problem_Structify.ipynb\" target=\"_parent\"><img src=\"https://colab.research.google.com/assets/colab-badge.svg\" alt=\"Open In Colab\"/></a>"
      ]
    },
    {
      "cell_type": "markdown",
      "source": [
        "**Solution 1 With Time Complexity O(n^2)**"
      ],
      "metadata": {
        "id": "ZGLMDS6-ON-n"
      }
    },
    {
      "cell_type": "code",
      "source": [
        "def do_chords_intersect(a1, b1, a2, b2):\n",
        "    \"\"\"\n",
        "    Checks if two chords defined by their endpoints (a1, b1) and (a2, b2) intersect.\n",
        "    Assumes 0 <= a1, b1, a2, b2 <= 2*pi and a1 < b1, a2 < b2.\n",
        "    \"\"\"\n",
        "    # Check if one end of each chord is between the ends of the other chord\n",
        "    return (a1 < a2 < b1 and b1 < b2) or (a2 < a1 < b2 and b2 < b1)\n",
        "\n",
        "def count_intersections_v3(radians, identifiers):\n",
        "    # Convert radians and identifiers to (ai, bi) pairs\n",
        "    pairs = {}\n",
        "    for radian, identifier in zip(radians, identifiers):\n",
        "        key = identifier[1:]  # Strip off 's' or 'e'\n",
        "        if key not in pairs:\n",
        "            pairs[key] = [None, None]\n",
        "        if identifier.startswith('s'):\n",
        "            pairs[key][0] = radian\n",
        "        else:\n",
        "            pairs[key][1] = radian\n",
        "\n",
        "    # Sort each pair so that ai < bi\n",
        "    for key in pairs:\n",
        "        pairs[key].sort()\n",
        "\n",
        "    # Check each pair of chords for intersection\n",
        "    chords = list(pairs.values())\n",
        "    intersections = []\n",
        "    for i in range(len(chords)):\n",
        "        for j in range(i + 1, len(chords)):\n",
        "            if do_chords_intersect(chords[i][0], chords[i][1], chords[j][0], chords[j][1]):\n",
        "                intersections.append((chords[i], chords[j]))\n",
        "\n",
        "\n",
        "    return len(intersections)\n",
        "\n",
        "# # Test the function with the given example\n",
        "# test_radians = [0.9, 1.3, 1.70, 2.92]\n",
        "# test_identifiers = [\"s1\", \"e1\", \"s2\", \"e2\"]\n",
        "\n",
        "# count_intersections_v3(test_radians, test_identifiers)\n",
        "\n",
        "\n",
        "# Test the function with the given example\n",
        "radians = [0.78, 1.47, 1.77, 3.92]\n",
        "identifiers = [\"s1\", \"s2\", \"e1\", \"e2\"]\n",
        "\n",
        "count_intersections_v3(radians, identifiers)\n"
      ],
      "metadata": {
        "colab": {
          "base_uri": "https://localhost:8080/"
        },
        "id": "Lb-DXhkPOKWV",
        "outputId": "434a2e6f-3746-4bcd-8d2a-13bd76484b07"
      },
      "execution_count": 17,
      "outputs": [
        {
          "output_type": "execute_result",
          "data": {
            "text/plain": [
              "1"
            ]
          },
          "metadata": {},
          "execution_count": 17
        }
      ]
    },
    {
      "cell_type": "code",
      "source": [
        "radians = [0.9, 1.3, 1.70, 2.92]\n",
        "identifiers = [\"s1\", \"e1\", \"s2\", \"e2\"]\n",
        "\n",
        "count_intersections_v3(radians, identifiers)"
      ],
      "metadata": {
        "colab": {
          "base_uri": "https://localhost:8080/"
        },
        "id": "SYQXzxZ0ClqL",
        "outputId": "4b753af1-e0fa-416c-f72e-08608ce97d20"
      },
      "execution_count": 18,
      "outputs": [
        {
          "output_type": "execute_result",
          "data": {
            "text/plain": [
              "0"
            ]
          },
          "metadata": {},
          "execution_count": 18
        }
      ]
    },
    {
      "cell_type": "markdown",
      "source": [
        "**Solution 2 Time Complexity O(nlogn)**"
      ],
      "metadata": {
        "id": "FW6zA4CnPfAl"
      }
    },
    {
      "cell_type": "code",
      "source": [
        "def count_chord_intersections_corrected(radians, identifiers):\n",
        "    # Create a dictionary to store the start and end points of each chord\n",
        "    chord_points = {}\n",
        "    for radian, identifier in zip(radians, identifiers):\n",
        "        chord_id = identifier[1:]  # Extract the chord ID from the identifier\n",
        "        if chord_id in chord_points:\n",
        "            chord_points[chord_id].append(radian)\n",
        "        else:\n",
        "            chord_points[chord_id] = [radian]\n",
        "\n",
        "    # Flatten the dictionary to create a sorted sequence of points\n",
        "    sorted_points = sorted([(point, chord_id) for chord_id, points in chord_points.items() for point in points])\n",
        "\n",
        "    # Track seen identifiers and count intersections\n",
        "    seen = set()\n",
        "    intersections = 0\n",
        "    for _, chord_id in sorted_points:\n",
        "        if chord_id in seen:\n",
        "            # Count intersections for each seen chord\n",
        "            intersections += sum(1 for seen_id in seen if seen_id != chord_id)\n",
        "            seen.remove(chord_id)\n",
        "        else:\n",
        "            seen.add(chord_id)\n",
        "\n",
        "    return intersections\n",
        "\n",
        "# Test the function with the given example\n",
        "radians = [0.78, 1.47, 1.77, 3.92]\n",
        "identifiers = [\"s1\", \"s2\", \"e1\", \"e2\"]\n",
        "count_chord_intersections_corrected(radians, identifiers)\n"
      ],
      "metadata": {
        "colab": {
          "base_uri": "https://localhost:8080/"
        },
        "id": "FomUP5a2F50u",
        "outputId": "8136760b-b33a-4684-fea1-4a02778157af"
      },
      "execution_count": 21,
      "outputs": [
        {
          "output_type": "execute_result",
          "data": {
            "text/plain": [
              "1"
            ]
          },
          "metadata": {},
          "execution_count": 21
        }
      ]
    },
    {
      "cell_type": "code",
      "source": [
        "radians = [0.9, 1.3, 1.70, 2.92]\n",
        "identifiers = [\"s1\", \"e1\", \"s2\", \"e2\"]\n",
        "count_chord_intersections_corrected(radians, identifiers)\n"
      ],
      "metadata": {
        "colab": {
          "base_uri": "https://localhost:8080/"
        },
        "id": "7IuDn_TtIl6B",
        "outputId": "696dff2e-4642-4889-e3f7-57f76b64d483"
      },
      "execution_count": 22,
      "outputs": [
        {
          "output_type": "execute_result",
          "data": {
            "text/plain": [
              "0"
            ]
          },
          "metadata": {},
          "execution_count": 22
        }
      ]
    },
    {
      "cell_type": "code",
      "source": [],
      "metadata": {
        "id": "kvfGvr5YI2Wp"
      },
      "execution_count": null,
      "outputs": []
    }
  ]
}